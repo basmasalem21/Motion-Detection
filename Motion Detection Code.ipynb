{
 "cells": [
  {
   "cell_type": "markdown",
   "id": "a03641d2",
   "metadata": {},
   "source": [
    "Motion Detection Project"
   ]
  },
  {
   "cell_type": "code",
   "execution_count": null,
   "id": "681e128d",
   "metadata": {},
   "outputs": [],
   "source": [
    "import cv2\n",
    "\n",
    "cap=cv2.VideoCapture(\"/home/basma/Downloads/vtest.avi\")\n",
    "success,frame1=cap.read()\n",
    "success,frame2=cap.read()\n",
    "\n",
    "while cap.isOpened():\n",
    "\n",
    "    if success:\n",
    "        frame1=cv2.resize(frame1,(700,700))\n",
    "        frame2=cv2.resize(frame2,(700,700))\n",
    "        difference=cv2.absdiff(frame1,frame2)\n",
    "        difference=cv2.cvtColor(difference, cv2.COLOR_BGR2GRAY)  \n",
    "        blur=cv2.GaussianBlur(difference,(5,5),0)  \n",
    "        _,thresh=cv2.threshold(blur,50,255,cv2.THRESH_BINARY) \n",
    "        dilated=cv2.dilate(thresh,None,iterations=3)\n",
    "        contours,_=cv2.findContours(dilated,cv2.RETR_TREE, cv2.CHAIN_APPROX_SIMPLE)\n",
    "        for contour in contours:\n",
    "            (x,y,w,h)=cv2.boundingRect(contour)\n",
    "            if cv2.contourArea(contour)<900:\n",
    "                continue\n",
    "            cv2.rectangle(frame1,(x,y),(x+w,y+h),(0,255,255),5)\n",
    "        cv2.imshow(\"Camera2\",thresh)\n",
    "        cv2.imshow(\"Camera\",frame1)\n",
    "        #cv2.imshow(\"Camera3\",dilated)\n",
    "        frame1=frame2\n",
    "        success,frame2=cap.read()\n",
    "        k=cv2.waitKey(20)\n",
    "        if k==27:\n",
    "            break\n",
    "    else:\n",
    "        break\n",
    "cap.release()\n",
    "cv2.destroyAllWindows()\n",
    "    "
   ]
  }
 ],
 "metadata": {
  "kernelspec": {
   "display_name": "python_env",
   "language": "python",
   "name": "python3"
  },
  "language_info": {
   "codemirror_mode": {
    "name": "ipython",
    "version": 3
   },
   "file_extension": ".py",
   "mimetype": "text/x-python",
   "name": "python",
   "nbconvert_exporter": "python",
   "pygments_lexer": "ipython3",
   "version": "3.12.3"
  }
 },
 "nbformat": 4,
 "nbformat_minor": 5
}
