{
 "cells": [
  {
   "cell_type": "code",
   "execution_count": 14,
   "id": "23a36e1e",
   "metadata": {},
   "outputs": [],
   "source": [
    "from ultralytics import YOLO\n",
    "import cv2"
   ]
  },
  {
   "cell_type": "code",
   "execution_count": 15,
   "id": "c41cf80d",
   "metadata": {},
   "outputs": [
    {
     "data": {
      "text/plain": [
       "{0: 'person',\n",
       " 1: 'bicycle',\n",
       " 2: 'car',\n",
       " 3: 'motorcycle',\n",
       " 4: 'airplane',\n",
       " 5: 'bus',\n",
       " 6: 'train',\n",
       " 7: 'truck',\n",
       " 8: 'boat',\n",
       " 9: 'traffic light',\n",
       " 10: 'fire hydrant',\n",
       " 11: 'stop sign',\n",
       " 12: 'parking meter',\n",
       " 13: 'bench',\n",
       " 14: 'bird',\n",
       " 15: 'cat',\n",
       " 16: 'dog',\n",
       " 17: 'horse',\n",
       " 18: 'sheep',\n",
       " 19: 'cow',\n",
       " 20: 'elephant',\n",
       " 21: 'bear',\n",
       " 22: 'zebra',\n",
       " 23: 'giraffe',\n",
       " 24: 'backpack',\n",
       " 25: 'umbrella',\n",
       " 26: 'handbag',\n",
       " 27: 'tie',\n",
       " 28: 'suitcase',\n",
       " 29: 'frisbee',\n",
       " 30: 'skis',\n",
       " 31: 'snowboard',\n",
       " 32: 'sports ball',\n",
       " 33: 'kite',\n",
       " 34: 'baseball bat',\n",
       " 35: 'baseball glove',\n",
       " 36: 'skateboard',\n",
       " 37: 'surfboard',\n",
       " 38: 'tennis racket',\n",
       " 39: 'bottle',\n",
       " 40: 'wine glass',\n",
       " 41: 'cup',\n",
       " 42: 'fork',\n",
       " 43: 'knife',\n",
       " 44: 'spoon',\n",
       " 45: 'bowl',\n",
       " 46: 'banana',\n",
       " 47: 'apple',\n",
       " 48: 'sandwich',\n",
       " 49: 'orange',\n",
       " 50: 'broccoli',\n",
       " 51: 'carrot',\n",
       " 52: 'hot dog',\n",
       " 53: 'pizza',\n",
       " 54: 'donut',\n",
       " 55: 'cake',\n",
       " 56: 'chair',\n",
       " 57: 'couch',\n",
       " 58: 'potted plant',\n",
       " 59: 'bed',\n",
       " 60: 'dining table',\n",
       " 61: 'toilet',\n",
       " 62: 'tv',\n",
       " 63: 'laptop',\n",
       " 64: 'mouse',\n",
       " 65: 'remote',\n",
       " 66: 'keyboard',\n",
       " 67: 'cell phone',\n",
       " 68: 'microwave',\n",
       " 69: 'oven',\n",
       " 70: 'toaster',\n",
       " 71: 'sink',\n",
       " 72: 'refrigerator',\n",
       " 73: 'book',\n",
       " 74: 'clock',\n",
       " 75: 'vase',\n",
       " 76: 'scissors',\n",
       " 77: 'teddy bear',\n",
       " 78: 'hair drier',\n",
       " 79: 'toothbrush'}"
      ]
     },
     "execution_count": 15,
     "metadata": {},
     "output_type": "execute_result"
    }
   ],
   "source": [
    "model = YOLO(\"yolov8l.pt\") \n",
    "class_names=model.names\n",
    "class_names"
   ]
  },
  {
   "cell_type": "code",
   "execution_count": 16,
   "id": "9143f9dc",
   "metadata": {},
   "outputs": [],
   "source": [
    "image_path=\"people images.jpeg\"\n"
   ]
  },
  {
   "cell_type": "code",
   "execution_count": 17,
   "id": "1d1196fd",
   "metadata": {},
   "outputs": [
    {
     "name": "stdout",
     "output_type": "stream",
     "text": [
      "\n",
      "0: 640x640 5 persons, 1213.9ms\n",
      "Speed: 6.6ms preprocess, 1213.9ms inference, 1.8ms postprocess per image at shape (1, 3, 640, 640)\n",
      "5\n"
     ]
    }
   ],
   "source": [
    "image=cv2.imread(image_path)\n",
    "image=cv2.resize(image,(800,800))\n",
    "count=0\n",
    "results=model(image)\n",
    "for result in results:\n",
    "\n",
    "    for box in result.boxes:\n",
    "        #print(box)\n",
    "        x1, y1, x2, y2 = map(int, box.xyxy[0])\n",
    "        cv2.rectangle(image, \n",
    "                      (x1,y1), \n",
    "                      (x2,y2),\n",
    "                      (255, 255, 0),  \n",
    "                      12) \n",
    "\n",
    "        class_id = int(box.cls)  \n",
    "        object_name = model.names[class_id]\n",
    "        if object_name==\"person\":\n",
    "            count+=1\n",
    "        #print(f\"object name is {object_name}\") \n",
    "        cv2.putText(image,f\"{object_name}\",((x1+x2)//2,(y1+y2)//2), cv2.FONT_HERSHEY_SIMPLEX, 0.5,(255,0,255),1)\n",
    "        \n",
    "      \n",
    "    cv2.imshow(\"detected_image\",image)\n",
    "    k=cv2.waitKey(0)\n",
    "    if k==27:\n",
    "        break\n",
    "cv2.destroyAllWindows()\n",
    "print(count)\n",
    "        "
   ]
  },
  {
   "cell_type": "code",
   "execution_count": 18,
   "id": "1e85e392",
   "metadata": {},
   "outputs": [],
   "source": [
    "image_path=\"yolo test image.png\""
   ]
  },
  {
   "cell_type": "code",
   "execution_count": 19,
   "id": "f16e4c1b",
   "metadata": {},
   "outputs": [
    {
     "name": "stdout",
     "output_type": "stream",
     "text": [
      "\n"
     ]
    },
    {
     "name": "stdout",
     "output_type": "stream",
     "text": [
      "0: 480x640 1 cup, 1 chair, 1 book, 3 scissorss, 943.1ms\n",
      "Speed: 16.0ms preprocess, 943.1ms inference, 1.4ms postprocess per image at shape (1, 3, 480, 640)\n",
      "[     358.79      112.75      174.13         210]\n",
      "[     710.71      272.86      288.21      135.52]\n",
      "[     176.89       425.5      293.46      364.98]\n",
      "[     763.37      456.61       278.1      165.12]\n",
      "[     487.47      437.99      55.498      275.15]\n",
      "[     465.38      17.874      338.52      35.749]\n"
     ]
    }
   ],
   "source": [
    "image=cv2.imread(image_path)\n",
    "results=model(image)\n",
    "for result in results:\n",
    "\n",
    "    boxes=result.boxes.xywh.cpu().numpy()\n",
    "    for box in boxes:\n",
    "        print(box)\n",
    "        x, y, w, h = map(int, box) \n",
    "        cv2.rectangle(image, \n",
    "                      (x - w//2, y - h//2), \n",
    "                      (x + w//2, y + h//2),\n",
    "                      (255, 255, 0),  \n",
    "                      3) \n",
    "    cv2.imshow(\"detected_image\",image)\n",
    "    k=cv2.waitKey(0)\n",
    "    if k==27:\n",
    "        break\n",
    "cv2.destroyAllWindows()\n",
    "        "
   ]
  },
  {
   "cell_type": "code",
   "execution_count": 24,
   "id": "b18eabf2",
   "metadata": {},
   "outputs": [
    {
     "name": "stdout",
     "output_type": "stream",
     "text": [
      "عدد الأشخاص المكتشفين: 4\n"
     ]
    }
   ],
   "source": [
    "model=YOLO(\"yolov8n.pt\")\n",
    "cap = cv2.VideoCapture(\"vtest.avi\")\n",
    "\n",
    "cap.set(cv2.CAP_PROP_FRAME_WIDTH, 500)\n",
    "cap.set(cv2.CAP_PROP_FRAME_HEIGHT, 500)\n",
    "cap.set(cv2.CAP_PROP_FPS, 20)\n",
    "while cap.isOpened():\n",
    "    ret, frame = cap.read()\n",
    "    if not ret:\n",
    "        break\n",
    "    \n",
    "    frame = cv2.resize(frame, (500, 500))\n",
    "    results = model.track(\n",
    "        frame, \n",
    "        persist=True,\n",
    "        iou=0.8,  \n",
    "        conf=0.5,\n",
    "        device='cpu', \n",
    "        half=False,  \n",
    "        verbose=False \n",
    "    )\n",
    "\n",
    "    count = 0\n",
    "    for result in results:\n",
    "        for box in result.boxes:\n",
    "            x1, y1, x2, y2 = map(int, box.xyxy[0])\n",
    "            \n",
    "            cv2.rectangle(frame, (x1, y1), (x2, y2), (0, 0, 0), 2)\n",
    "            \n",
    "            class_id = int(box.cls)\n",
    "            object_name = model.names[class_id]\n",
    "            \n",
    "            if object_name == \"person\":\n",
    "                count += 1\n",
    "\n",
    "                track_id = int(box.id) if box.id is not None else -1\n",
    "                \n",
    "                label = f\"Person {track_id}\"\n",
    "                cv2.putText(frame, label, (x1, y1 - 10), \n",
    "                            cv2.FONT_HERSHEY_SIMPLEX, 0.7, (0, 255, 0), 2)\n",
    "\n",
    "    cv2.imshow(\"People Tracking\", frame)\n",
    "    k = cv2.waitKey(1)\n",
    "    if k == 27: \n",
    "        break\n",
    "\n",
    "cv2.destroyAllWindows()\n",
    "print(f\"عدد الأشخاص المكتشفين: {count}\")"
   ]
  }
 ],
 "metadata": {
  "kernelspec": {
   "display_name": "my_env",
   "language": "python",
   "name": "my_env"
  },
  "language_info": {
   "codemirror_mode": {
    "name": "ipython",
    "version": 3
   },
   "file_extension": ".py",
   "mimetype": "text/x-python",
   "name": "python",
   "nbconvert_exporter": "python",
   "pygments_lexer": "ipython3",
   "version": "3.12.3"
  }
 },
 "nbformat": 4,
 "nbformat_minor": 5
}
